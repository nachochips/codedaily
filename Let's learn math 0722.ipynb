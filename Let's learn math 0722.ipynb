{
 "cells": [
  {
   "cell_type": "markdown",
   "metadata": {},
   "source": [
    "## 4.2 벡터의 내적과 놈"
   ]
  },
  {
   "cell_type": "code",
   "execution_count": 1,
   "metadata": {},
   "outputs": [
    {
     "name": "stdout",
     "output_type": "stream",
     "text": [
      "--- dot() 함수 ---\n",
      "10\n",
      "--- 곱의 총합 ---\n",
      "10\n"
     ]
    }
   ],
   "source": [
    "import numpy as np \n",
    "a = np.array([1, 2, 3])\n",
    "b = np.array([3, 2, 1])\n",
    "\n",
    "print(\"--- dot() 함수 ---\")\n",
    "print(np.dot(a, b))\n",
    "print(\"--- 곱의 총합 ---\")\n",
    "print(sum(a * b)"
   ]
  },
  {
   "cell_type": "code",
   "execution_count": 2,
   "metadata": {},
   "outputs": [
    {
     "name": "stdout",
     "output_type": "stream",
     "text": [
      "--- L2놈 ---\n",
      "2.0\n",
      "--- L1놈 ---\n",
      "4.0\n"
     ]
    }
   ],
   "source": [
    "#놈의 구현\n",
    "a = np.array([1, 1, -1, -1])\n",
    "\n",
    "print(\"--- L2놈 ---\")\n",
    "print(np.linalg.norm(a))\n",
    "print(\"--- L1놈 ---\")\n",
    "print(np.linalg.norm(a, 1))"
   ]
  },
  {
   "cell_type": "code",
   "execution_count": 9,
   "metadata": {},
   "outputs": [
    {
     "name": "stdout",
     "output_type": "stream",
     "text": [
      "--- 내적 ---\n",
      "8\n",
      "8\n",
      "--- L1놈 ---\n",
      "5.0\n",
      "5.0\n",
      "--- L2놈 ---\n",
      "3.0\n",
      "3.0\n"
     ]
    }
   ],
   "source": [
    "import numpy as np\n",
    "\n",
    "a = np.array([1, -2, 2])\n",
    "b = np.array([2, -2, 1])\n",
    "\n",
    "print(\"--- 내적 ---\")\n",
    "print(np.dot(a, b))\n",
    "print(np.sum(a*b))\n",
    "print(\"--- L1놈 ---\")\n",
    "print(np.linalg.norm(a, 1))\n",
    "print(np.linalg.norm(b, 1))\n",
    "print(\"--- L2놈 ---\")\n",
    "print(np.linalg.norm(a))\n",
    "print(np.linalg.norm(b))"
   ]
  },
  {
   "cell_type": "code",
   "execution_count": 15,
   "metadata": {},
   "outputs": [
    {
     "name": "stdout",
     "output_type": "stream",
     "text": [
      "a\n",
      "happy\n",
      "happiness\n",
      "apple\n"
     ]
    }
   ],
   "source": [
    "# ------- 솔로런 -------\n",
    "\n",
    "word_list = [\"home\", \"happy\", \"happiness\", \"hello\", \"apple\"]\n",
    "\n",
    "input_letter = input()\n",
    "\n",
    "for word in word_list:\n",
    "    if input_letter in word:\n",
    "        print(word)\n"
   ]
  },
  {
   "cell_type": "code",
   "execution_count": 17,
   "metadata": {},
   "outputs": [
    {
     "name": "stdout",
     "output_type": "stream",
     "text": [
      "[[ 6  3]\n",
      " [12  6]]\n"
     ]
    }
   ],
   "source": [
    "import numpy as np \n",
    "\n",
    "a = np.array([[0, 1, 2], \n",
    "             [1, 2, 3]])\n",
    "\n",
    "b = np.array([[2, 1],\n",
    "             [2, 1],\n",
    "             [2, 1]])\n",
    "\n",
    "print(np.dot(a, b))"
   ]
  },
  {
   "cell_type": "code",
   "execution_count": 20,
   "metadata": {},
   "outputs": [
    {
     "name": "stdout",
     "output_type": "stream",
     "text": [
      "[[ 0  1  4]\n",
      " [ 6  0  5]\n",
      " [ 6 14  0]]\n"
     ]
    }
   ],
   "source": [
    "import numpy as np\n",
    "\n",
    "a = np.array([[0, 1, 2],\n",
    "             [3, 4, 5],\n",
    "             [6, 7, 8]])\n",
    "\n",
    "b = np.array([[0, 1, 2],\n",
    "            [2, 0, 1],\n",
    "            [1, 2, 0]])\n",
    "\n",
    "print(a*b)"
   ]
  },
  {
   "cell_type": "code",
   "execution_count": 21,
   "metadata": {},
   "outputs": [
    {
     "name": "stdout",
     "output_type": "stream",
     "text": [
      "[[ 5  8]\n",
      " [ 8 14]]\n",
      "[[ 0  2  0]\n",
      " [ 6  0 10]\n",
      " [ 0 14  0]]\n"
     ]
    }
   ],
   "source": [
    "import numpy as np\n",
    "\n",
    "a = np.array([[0, 1, 2],\n",
    "             [1, 2, 3]])\n",
    "\n",
    "b = np.array([[0, 1],\n",
    "             [1, 2],\n",
    "             [2, 3]])\n",
    "\n",
    "print(np.dot(a, b))\n",
    "\n",
    "c = np.array([[0, 1, 2],\n",
    "            [3, 4, 5],\n",
    "            [6, 7, 8]])\n",
    "d = np.array([[0, 2, 0],\n",
    "             [2, 0, 2],\n",
    "             [0, 2, 0]])\n",
    "\n",
    "print(c*d)\n"
   ]
  },
  {
   "cell_type": "code",
   "execution_count": null,
   "metadata": {},
   "outputs": [],
   "source": []
  }
 ],
 "metadata": {
  "kernelspec": {
   "display_name": "Python 3",
   "language": "python",
   "name": "python3"
  },
  "language_info": {
   "codemirror_mode": {
    "name": "ipython",
    "version": 3
   },
   "file_extension": ".py",
   "mimetype": "text/x-python",
   "name": "python",
   "nbconvert_exporter": "python",
   "pygments_lexer": "ipython3",
   "version": "3.8.5"
  }
 },
 "nbformat": 4,
 "nbformat_minor": 4
}
