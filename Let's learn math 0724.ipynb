{
 "cells": [
  {
   "cell_type": "markdown",
   "metadata": {},
   "source": [
    "## 4.6 선형변환"
   ]
  },
  {
   "cell_type": "code",
   "execution_count": 5,
   "metadata": {},
   "outputs": [
    {
     "data": {
      "image/png": "[encoded data removed]",
      "text/plain": [
       "<Figure size 432x288 with 1 Axes>"
      ]
     },
     "metadata": {
      "needs_background": "light"
     },
     "output_type": "display_data"
    }
   ],
   "source": [
    "import numpy as np \n",
    "import matplotlib.pyplot as plt \n",
    "\n",
    "#화살표를 그리는 함수 \n",
    "def arrow(start, size, color): \n",
    "    plt.quiver(start[0], start[1], size[0], size[1], angles='xy', scale_units=\"xy\", scale=1, color=color)\n",
    "    \n",
    "#화살표의 시작점\n",
    "s = np.array([0, 0]) #원점\n",
    "\n",
    "#벡터\n",
    "a = np.array([2, 3]) #세로 벡터를 나타낸다\n",
    "\n",
    "arrow(s, a, color=\"black\")\n",
    "\n",
    "#그래프 표시\n",
    "plt.xlim([-3, 3])\n",
    "plt.ylim([-3, 3])\n",
    "plt.xlabel(\"x\", size=14)\n",
    "plt.ylabel(\"y\", size=14)\n",
    "plt.grid()\n",
    "plt.gca().set_aspect(\"equal\") #표를 올바르게 정사각형으로 그려줌 \n",
    "plt.show()"
   ]
  },
  {
   "cell_type": "markdown",
   "metadata": {},
   "source": [
    "Sololearn 문제 풀기 \n",
    "\n",
    "Analyzing a Data Set \n",
    " \n",
    "You are analyzing a data set and need to remove the outliers (the smallest and largest values; \n",
    "the data is stored in a list). \n",
    " \n",
    "Task \n",
    "Complete the code to remove the smallest and largest elements from the list and output the sum of the remaining numbers."
   ]
  },
  {
   "cell_type": "code",
   "execution_count": 1,
   "metadata": {},
   "outputs": [
    {
     "name": "stdout",
     "output_type": "stream",
     "text": [
      "2806.32\n"
     ]
    }
   ],
   "source": [
    "data = [7, 5, 6.9, 1, 8, 42, 33, 128, 1024, 2, 8, 11, 0.4, 1024, 66, 809, 11, 8.9, 1.1, 3.42, 9, 100, 444, 78]\n",
    "\n",
    "d_min = data.remove(min(data))\n",
    "d_max = data.remove(max(data))\n",
    "\n",
    "for i in data: \n",
    "    total = sum(data[:])\n",
    "print(total)"
   ]
  },
  {
   "cell_type": "code",
   "execution_count": 4,
   "metadata": {},
   "outputs": [
    {
     "name": "stdout",
     "output_type": "stream",
     "text": [
      "변환 전의 벡터(a): [2 3]\n",
      "변환 후의 벡터(b): [ 1 -2]\n"
     ]
    },
    {
     "data": {
      "image/png": "[encoded data removed]",
      "text/plain": [
       "<Figure size 432x288 with 1 Axes>"
      ]
     },
     "metadata": {
      "needs_background": "light"
     },
     "output_type": "display_data"
    }
   ],
   "source": [
    "import numpy as np\n",
    "import matplotlib.pyplot as plt\n",
    "\n",
    "a = np.array([2, 3]) #변환 전의 벡터 \n",
    "\n",
    "A = np.array([[2, -1],\n",
    "             [2, -2]])\n",
    "\n",
    "b = np.dot(A, a) #선형 변환\n",
    "\n",
    "print(\"변환 전의 벡터(a):\", a)\n",
    "print(\"변환 후의 벡터(b):\", b)\n",
    "\n",
    "def arrow(start, size, color):\n",
    "    plt.quiver(start[0], start[1], size[0], size[1], angles=\"xy\", scale_units=\"xy\", scale=1, color=color)\n",
    "\n",
    "s = np.array([0,0]) #원점\n",
    "\n",
    "arrow(s, a, color=\"black\")\n",
    "arrow(s, b, color=\"blue\")\n",
    "\n",
    "#그래프 표시\n",
    "plt.xlim([-3, 3]) #x의 표시 범위\n",
    "plt.ylim([-3, 3]) #y의 표시 범위 \n",
    "plt.xlabel(\"x\", size=14)\n",
    "plt.ylabel(\"y\", size=14)\n",
    "plt.grid()\n",
    "plt.gca().set_aspect(\"equal\") #가로세로비를 같게\n",
    "plt.show()"
   ]
  },
  {
   "cell_type": "code",
   "execution_count": null,
   "metadata": {},
   "outputs": [],
   "source": []
  }
 ],
 "metadata": {
  "kernelspec": {
   "display_name": "Python 3",
   "language": "python",
   "name": "python3"
  },
  "language_info": {
   "codemirror_mode": {
    "name": "ipython",
    "version": 3
   },
   "file_extension": ".py",
   "mimetype": "text/x-python",
   "name": "python",
   "nbconvert_exporter": "python",
   "pygments_lexer": "ipython3",
   "version": "3.8.5"
  }
 },
 "nbformat": 4,
 "nbformat_minor": 4
}
